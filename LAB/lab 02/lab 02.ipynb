{
 "cells": [
  {
   "cell_type": "code",
   "execution_count": 2,
   "metadata": {},
   "outputs": [
    {
     "name": "stdout",
     "output_type": "stream",
     "text": [
      "55FiveFive\n"
     ]
    }
   ],
   "source": [
    "num = [\"Zero\",\"One\",\"Two\",\"Three\",\"Four\",\"Five\",\"Six\",\"Seven\",\"Eight\",\"Nine\",\n",
    "]\n",
    "\n",
    "\n",
    "def fun(num, user):\n",
    "    str_user = str(user)\n",
    "    new_value = \"\"\n",
    "    for i in str_user:\n",
    "        digit = int(i)\n",
    "        new_value += num[digit]\n",
    "    return new_value\n",
    "\n",
    "\n",
    "user_input = int(input(\"Enter the num: \"))\n",
    "result = fun(num, user_input)\n",
    "print(f\"{user_input}{result}\")"
   ]
  },
  {
   "cell_type": "code",
   "execution_count": null,
   "metadata": {},
   "outputs": [],
   "source": []
  }
 ],
 "metadata": {
  "kernelspec": {
   "display_name": "Python 3",
   "language": "python",
   "name": "python3"
  },
  "language_info": {
   "codemirror_mode": {
    "name": "ipython",
    "version": 3
   },
   "file_extension": ".py",
   "mimetype": "text/x-python",
   "name": "python",
   "nbconvert_exporter": "python",
   "pygments_lexer": "ipython3",
   "version": "3.11.4"
  },
  "orig_nbformat": 4
 },
 "nbformat": 4,
 "nbformat_minor": 2
}
