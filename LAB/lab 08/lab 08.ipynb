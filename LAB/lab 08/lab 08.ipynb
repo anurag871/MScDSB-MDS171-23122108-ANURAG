{
 "cells": [
  {
   "cell_type": "code",
   "execution_count": 1,
   "metadata": {},
   "outputs": [
    {
     "name": "stdout",
     "output_type": "stream",
     "text": [
      "Exitting...\n"
     ]
    }
   ],
   "source": [
    "# First I create A class\n",
    "\n",
    "\n",
    "class Stack:\n",
    "    def __init__(self, item):\n",
    "        self.item = item\n",
    "\n",
    "    def add_stack(self, value):\n",
    "        self.item.append(value)\n",
    "        print(value + \" This Value is Successfully Added\")\n",
    "\n",
    "    def remove_stack(self):\n",
    "        print(self.item[-1] + \" The Stack is Successfully Deleted\")\n",
    "        self.item.pop()\n",
    "\n",
    "    def show_stack(self):\n",
    "        for index, item in enumerate(self.item, 1):\n",
    "            print(index, \": \", item)\n",
    "\n",
    "    def is_empty(self):\n",
    "        if len(self.item) == 0:\n",
    "            print(\"Stack is Empty\")\n",
    "        else:\n",
    "            print(\"Stack Has Some Value\")\n",
    "\n",
    "\n",
    "itemss = []\n",
    "check_stack = Stack(itemss)\n",
    "while True:\n",
    "    try:\n",
    "        user_input = int(input(\"Enter The Choices: \"))\n",
    "    except ValueError:\n",
    "        print(\"Make Choices in Integer Form\")\n",
    "\n",
    "    if user_input == 1:\n",
    "        push = input(\"What Do You Want To add in a Stack: \")\n",
    "        check_stack.add_stack(push)\n",
    "    elif user_input == 2:\n",
    "        check_stack.add_stack()\n",
    "    elif user_input == 3:\n",
    "        check_stack.remove_stack()\n",
    "    elif user_input == 4:\n",
    "        check_stack.is_empty()\n",
    "    elif user_input == 5:\n",
    "        check_stack.show_stack()\n",
    "    elif user_input == 6:\n",
    "        print(\"Exitting...\")\n",
    "        break"
   ]
  }
 ],
 "metadata": {
  "kernelspec": {
   "display_name": "Python 3",
   "language": "python",
   "name": "python3"
  },
  "language_info": {
   "codemirror_mode": {
    "name": "ipython",
    "version": 3
   },
   "file_extension": ".py",
   "mimetype": "text/x-python",
   "name": "python",
   "nbconvert_exporter": "python",
   "pygments_lexer": "ipython3",
   "version": "3.11.4"
  },
  "orig_nbformat": 4
 },
 "nbformat": 4,
 "nbformat_minor": 2
}
