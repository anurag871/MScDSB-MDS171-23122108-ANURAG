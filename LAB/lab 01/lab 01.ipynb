{
 "cells": [
  {
   "cell_type": "code",
   "execution_count": null,
   "metadata": {},
   "outputs": [],
   "source": []
  },
  {
   "cell_type": "code",
   "execution_count": 4,
   "metadata": {},
   "outputs": [
    {
     "name": "stdout",
     "output_type": "stream",
     "text": [
      "anurag\n",
      "anurag\n",
      "anurag\n",
      "anurag\n",
      "anurag\n",
      "anurag\n",
      "anurag\n",
      "anurag\n"
     ]
    }
   ],
   "source": [
    "#write a program to print a name \"n\" times name &\"n\" will be user input\n",
    "a=str(input(\"enter your name\"))\n",
    "n=int(input(\"enter the number you want to print\"))\n",
    "i=1\n",
    "while i<=n:\n",
    "    print(a)\n",
    "    i+=1\n",
    "\n",
    "\n",
    "\n",
    "\n",
    "\n"
   ]
  },
  {
   "cell_type": "code",
   "execution_count": 21,
   "metadata": {},
   "outputs": [
    {
     "name": "stdout",
     "output_type": "stream",
     "text": [
      "five\n"
     ]
    }
   ],
   "source": [
    "a=5\n",
    "if a==5:\n",
    "    print(\"five\")\n"
   ]
  },
  {
   "cell_type": "code",
   "execution_count": 22,
   "metadata": {},
   "outputs": [
    {
     "name": "stdout",
     "output_type": "stream",
     "text": [
      "print five\n"
     ]
    }
   ],
   "source": [
    "a=5\n",
    "if a==5:\n",
    "    print(\"print five\")\n",
    "elif a==1:\n",
    "    print(\"ONE\")\n",
    "else:\n",
    "    print(\"five\")"
   ]
  },
  {
   "cell_type": "code",
   "execution_count": null,
   "metadata": {},
   "outputs": [],
   "source": []
  },
  {
   "cell_type": "code",
   "execution_count": null,
   "metadata": {},
   "outputs": [],
   "source": []
  },
  {
   "cell_type": "code",
   "execution_count": null,
   "metadata": {},
   "outputs": [],
   "source": []
  },
  {
   "cell_type": "code",
   "execution_count": 1,
   "metadata": {},
   "outputs": [
    {
     "name": "stdout",
     "output_type": "stream",
     "text": [
      "tuesday\n"
     ]
    }
   ],
   "source": [
    "#based on the user input,print the corresponding day of the week if 1->1sunday,if 2-> monday....\n",
    "a=int(input(\"enter the number:\"))\n",
    "if a==1:\n",
    "    print(\"sunday\")\n",
    "elif a==2:\n",
    "    print(\"monday\")\n",
    "elif a==3:\n",
    "    print(\"tuesday\")\n",
    "elif a==4:\n",
    "    print(\"wednesday\")\n",
    "elif a==5:\n",
    "    print(\"thursday\")\n",
    "elif a==6:\n",
    "    print(\"friday\")\n",
    "elif a==7:\n",
    "    print(\"saturday\")\n",
    "    "
   ]
  },
  {
   "cell_type": "code",
   "execution_count": 2,
   "metadata": {},
   "outputs": [
    {
     "name": "stdout",
     "output_type": "stream",
     "text": [
      "6\n",
      "abc\n"
     ]
    },
    {
     "data": {
      "text/plain": [
       "'g'"
      ]
     },
     "execution_count": 2,
     "metadata": {},
     "output_type": "execute_result"
    }
   ],
   "source": [
    "msg=(\"anurag\")\n",
    "print(len(msg))\n",
    "print(\"abc\")\n",
    "msg[5]"
   ]
  },
  {
   "cell_type": "code",
   "execution_count": null,
   "metadata": {},
   "outputs": [
    {
     "name": "stdout",
     "output_type": "stream",
     "text": [
      "a\n",
      "n\n",
      "u\n",
      "r\n",
      "a\n",
      "g\n"
     ]
    }
   ],
   "source": [
    "for i in msg:\n",
    "    print(i)"
   ]
  },
  {
   "cell_type": "code",
   "execution_count": 3,
   "metadata": {},
   "outputs": [
    {
     "name": "stdout",
     "output_type": "stream",
     "text": [
      "6\n"
     ]
    }
   ],
   "source": [
    "name =(\"anurag\")\n",
    "print(len(name))\n"
   ]
  },
  {
   "cell_type": "code",
   "execution_count": null,
   "metadata": {},
   "outputs": [
    {
     "name": "stdout",
     "output_type": "stream",
     "text": [
      "['2', '6', '5', '6', '5', '9']\n"
     ]
    }
   ],
   "source": [
    "#split \n",
    "number=\"2,6,5,6,5,9\"\n",
    "print (number.split(','))"
   ]
  },
  {
   "cell_type": "code",
   "execution_count": 4,
   "metadata": {},
   "outputs": [
    {
     "name": "stdout",
     "output_type": "stream",
     "text": [
      "2\n",
      "5\n",
      "6\n",
      "8\n",
      "7\n",
      "9\n"
     ]
    }
   ],
   "source": [
    "#for loop\n",
    "num = \"2,5,6,8,7,9\"\n",
    "nos = num.split(\",\")\n",
    "for item in nos:\n",
    "    print(item)"
   ]
  },
  {
   "cell_type": "code",
   "execution_count": 5,
   "metadata": {},
   "outputs": [
    {
     "name": "stdout",
     "output_type": "stream",
     "text": [
      "sum 20\n"
     ]
    }
   ],
   "source": [
    "#for sum in looping, \n",
    "num=\"2,6,5,4,3\"\n",
    "nos=num.split(\",\")\n",
    "sum=0\n",
    "for item in nos:\n",
    "    sum+=int(item)\n",
    "print(\"sum\",sum)\n"
   ]
  },
  {
   "cell_type": "code",
   "execution_count": 6,
   "metadata": {},
   "outputs": [
    {
     "name": "stdout",
     "output_type": "stream",
     "text": [
      "['2', '5', '9', '8', '7', '4']\n",
      "35\n"
     ]
    }
   ],
   "source": [
    "#sum in loopping\n",
    "num=\"2,5,9,8,7,4\"\n",
    "nos=num.split(\",\")\n",
    "print(nos)\n",
    "sum=0\n",
    "for item in nos:\n",
    "    temp=int(item)\n",
    "    sum=sum+temp\n",
    "print(sum)"
   ]
  },
  {
   "cell_type": "code",
   "execution_count": 7,
   "metadata": {},
   "outputs": [
    {
     "name": "stdout",
     "output_type": "stream",
     "text": [
      "your user name:asdand password is :vhjbjkn\n"
     ]
    }
   ],
   "source": [
    "# user format\n",
    "name=input('enter user name')\n",
    "password=input(\"enter the password\")\n",
    "print(\"your user name:{}and password is :{}\".format(name,password))"
   ]
  },
  {
   "cell_type": "code",
   "execution_count": 8,
   "metadata": {},
   "outputs": [
    {
     "name": "stdout",
     "output_type": "stream",
     "text": [
      "10\n",
      "11\n",
      "12\n",
      "13\n",
      "14\n",
      "15\n",
      "16\n",
      "17\n",
      "18\n",
      "19\n"
     ]
    }
   ],
   "source": [
    "#for loop\n",
    "for i in range(10,20,1):\n",
    "    print(i)\n",
    "    "
   ]
  },
  {
   "cell_type": "code",
   "execution_count": 9,
   "metadata": {},
   "outputs": [
    {
     "name": "stdout",
     "output_type": "stream",
     "text": [
      "2\n",
      "4\n",
      "6\n",
      "8\n",
      "10\n",
      "12\n",
      "14\n",
      "16\n",
      "18\n",
      "20\n",
      "22\n",
      "24\n",
      "26\n",
      "28\n",
      "30\n",
      "32\n",
      "34\n",
      "36\n",
      "38\n",
      "40\n",
      "42\n",
      "44\n",
      "46\n",
      "48\n",
      "50\n",
      "52\n",
      "54\n"
     ]
    }
   ],
   "source": [
    "#find the sum of n multipes of 2 where n is user input\n",
    "n=int(input(\"enter the number\"))\n",
    "for i in range(2,n,2):\n",
    "    print(i)"
   ]
  },
  {
   "cell_type": "code",
   "execution_count": 10,
   "metadata": {},
   "outputs": [
    {
     "name": "stdout",
     "output_type": "stream",
     "text": [
      "['abc', 'hff', 23, 25, 67, 'suebv']\n"
     ]
    }
   ],
   "source": [
    "#list\n",
    "nlist=[\"abc\",\"hff\",23,25,67,\"suebv\"]\n",
    "print(nlist)"
   ]
  },
  {
   "cell_type": "code",
   "execution_count": null,
   "metadata": {},
   "outputs": [
    {
     "name": "stdout",
     "output_type": "stream",
     "text": [
      "['one', 'two', 'three', 'four']\n"
     ]
    }
   ],
   "source": [
    "#list\n",
    "listex=['one','two','three','four']\n",
    "print(listex)"
   ]
  },
  {
   "cell_type": "code",
   "execution_count": null,
   "metadata": {},
   "outputs": [
    {
     "name": "stdout",
     "output_type": "stream",
     "text": [
      "['one', 'two', 'three', 'four', 'five']\n"
     ]
    }
   ],
   "source": [
    "#APPEND\n",
    "listex=['one','two','three','four']\n",
    "listex.append('five')\n",
    "print(listex)"
   ]
  },
  {
   "cell_type": "code",
   "execution_count": null,
   "metadata": {},
   "outputs": [
    {
     "name": "stdout",
     "output_type": "stream",
     "text": [
      "['one', 'two', 'three', 'four']\n"
     ]
    }
   ],
   "source": [
    "#POP\n",
    "listex.pop()\n",
    "print(listex)\n"
   ]
  },
  {
   "cell_type": "code",
   "execution_count": null,
   "metadata": {},
   "outputs": [
    {
     "name": "stdout",
     "output_type": "stream",
     "text": [
      "['one', 'three']\n"
     ]
    }
   ],
   "source": [
    "#remove\n",
    "listex.remove('four')\n",
    "print(listex)"
   ]
  },
  {
   "cell_type": "code",
   "execution_count": null,
   "metadata": {},
   "outputs": [
    {
     "data": {
      "text/plain": [
       "2"
      ]
     },
     "execution_count": 27,
     "metadata": {},
     "output_type": "execute_result"
    }
   ],
   "source": [
    "len(listex)"
   ]
  },
  {
   "cell_type": "code",
   "execution_count": null,
   "metadata": {},
   "outputs": [
    {
     "name": "stdout",
     "output_type": "stream",
     "text": [
      "listex\n"
     ]
    }
   ],
   "source": [
    "listex.sort()\n",
    "listex.reverse()\n",
    "print(\"listex\")"
   ]
  },
  {
   "cell_type": "code",
   "execution_count": null,
   "metadata": {},
   "outputs": [],
   "source": [
    "#function\n",
    "def fname():\n",
    "    print(\"i am your first function..\")"
   ]
  },
  {
   "cell_type": "code",
   "execution_count": null,
   "metadata": {},
   "outputs": [
    {
     "name": "stdout",
     "output_type": "stream",
     "text": [
      "i am your first function..\n"
     ]
    }
   ],
   "source": [
    "fname()"
   ]
  },
  {
   "cell_type": "code",
   "execution_count": null,
   "metadata": {},
   "outputs": [
    {
     "name": "stdout",
     "output_type": "stream",
     "text": [
      "i am your function.. aman\n"
     ]
    },
    {
     "data": {
      "text/plain": [
       "'success'"
      ]
     },
     "execution_count": 44,
     "metadata": {},
     "output_type": "execute_result"
    }
   ],
   "source": [
    "def fname(n):\n",
    "\n",
    "    print(\"i am your function..\",n)\n",
    "    retval=\"success\"\n",
    "    return retval\n",
    "\n",
    "fname(\"aman\")"
   ]
  },
  {
   "cell_type": "code",
   "execution_count": 31,
   "metadata": {},
   "outputs": [
    {
     "name": "stdout",
     "output_type": "stream",
     "text": [
      "116\n"
     ]
    }
   ],
   "source": [
    "#define a function that takes in a list of no. and return the sum of no.s without any predefined funtion.....\n",
    "def sumofNumbers(lst):\n",
    "    sum = 0\n",
    "    for item in lst:\n",
    "        sum = sum + item\n",
    "    return sum\n",
    "\n",
    "listex = [10,30,22,13,12,8,5,4,3,9]   \n",
    "res = sumofNumbers(listex)\n",
    "print(res)"
   ]
  },
  {
   "cell_type": "code",
   "execution_count": 1,
   "metadata": {},
   "outputs": [
    {
     "name": "stdout",
     "output_type": "stream",
     "text": [
      "246\n"
     ]
    }
   ],
   "source": [
    "def sumofno(list):\n",
    "    sum=0\n",
    "    for item in list:\n",
    "        sum=sum+item\n",
    "    return sum\n",
    "\n",
    "listex = [85,96,49,16]\n",
    "res = sumofno(listex)\n",
    "print(res)\n"
   ]
  },
  {
   "cell_type": "code",
   "execution_count": 28,
   "metadata": {},
   "outputs": [
    {
     "name": "stdout",
     "output_type": "stream",
     "text": [
      "8\n"
     ]
    }
   ],
   "source": [
    "def sumlistfn(lst):\n",
    "    sum=0\n",
    "    #logic to sum theno in list....\n",
    "    for item in lst: \n",
    "        sum +=int(item)\n",
    "    return sum\n",
    "array = input(\"enter a list of no.seperated via coma\").split(',')\n",
    "    #2,3,4,5,6,7,10,23\n",
    "    #[\"2\",\"3\",\"4\",\"5\",\"6\",\"7\",\"10\",\"23\"]\n",
    "sum=sumlistfn(array)\n",
    "print(sum)"
   ]
  },
  {
   "cell_type": "code",
   "execution_count": null,
   "metadata": {},
   "outputs": [],
   "source": [
    "#count the no. odd and even no. in the list and print the odd no count and even no. count along with the no.\n",
    "#you will have a function that will take a list of no, then returns the count of idd no. and even no. and the new list of odd no and even no.\n"
   ]
  }
 ],
 "metadata": {
  "kernelspec": {
   "display_name": "Python 3",
   "language": "python",
   "name": "python3"
  },
  "language_info": {
   "codemirror_mode": {
    "name": "ipython",
    "version": 3
   },
   "file_extension": ".py",
   "mimetype": "text/x-python",
   "name": "python",
   "nbconvert_exporter": "python",
   "pygments_lexer": "ipython3",
   "version": "3.11.4"
  },
  "orig_nbformat": 4
 },
 "nbformat": 4,
 "nbformat_minor": 2
}
