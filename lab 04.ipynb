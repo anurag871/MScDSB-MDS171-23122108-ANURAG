{
 "cells": [
  {
   "cell_type": "code",
   "execution_count": 1,
   "metadata": {},
   "outputs": [
    {
     "name": "stdout",
     "output_type": "stream",
     "text": [
      "1. Create Order Data          2.  get Insight\n",
      "3. exit\n"
     ]
    }
   ],
   "source": [
    "def get_insight(file_name, second_file):\n",
    "    with open(file_name + \".txt\", \"r\") as order_file:\n",
    "        print(f\"Total Order Till Date: {order_file.read()}\")\n",
    "    with open(second_file + \".txt\", \"r\") as price_file:\n",
    "        print(f\"Total Price Till Date: {price_file.read()}\")\n",
    "\n",
    "\n",
    "def to_order(name, price, phone_number, qty, total_guest, date, file_name):\n",
    "    with open(\"total_order.txt\", \"r\") as total_orders:\n",
    "        total_order = int(total_orders.read())\n",
    "\n",
    "    with open(\"total_price.txt\", \"r\") as total_prices:\n",
    "        total_price = float(total_prices.read())\n",
    "\n",
    "    total_order += 1\n",
    "    total_price_order = price * qty\n",
    "\n",
    "    total_price += total_price_order\n",
    "\n",
    "    with open(\"total_order.txt\", \"w\") as order:\n",
    "        order.write(str(total_order))\n",
    "\n",
    "    with open(\"total_price.txt\", \"w\") as total_prices:\n",
    "        total_prices.write(str(total_price))\n",
    "\n",
    "    with open(file_name + \".txt\", \"a+\") as file:\n",
    "        total_order = 0\n",
    "\n",
    "        file.write(f\"Total Order Till Date: {total_order}\\n\")\n",
    "        file.write(f\"Total Price from Orders to Date: {total_price}\\n\")\n",
    "        file.write(\"---------------------------------\\n\")\n",
    "        file.write(f\"Name: {name}\\n\")\n",
    "        file.write(f\"Phone Number: {phone_number}\\n\")\n",
    "        file.write(f\"Food Price: {price}\\n\")\n",
    "        file.write(f\"Total qty: {qty}\\n\")\n",
    "        file.write(f\"Total Guest: {total_guest}\\n\")\n",
    "        file.write(f\"Date: {date}\\n\")\n",
    "        file.write(f\"Total price For This Order: {total_price_order}\\n\")\n",
    "        file.write(\"---------------------------------\\n\")\n",
    "        print(\"Your Order is Created Successfully\")\n",
    "\n",
    "\n",
    "def main():\n",
    "    print(\"1. Create Order Data          2.  get Insight\")\n",
    "    print(\"3. exit\")\n",
    "    while True:\n",
    "        try:\n",
    "            user_choice = int(input(\"Enter Your Choice (1-2): \"))\n",
    "\n",
    "            if user_choice == 1:\n",
    "                name = input(\"Customer Name: \")\n",
    "                price = float(input(\"Food Price: \"))\n",
    "                phone_number = int(input(\"Customer Phone Number: \"))\n",
    "                qty = int(input(\"Quantity: \"))\n",
    "                guest = int(input(\"Total Guest: \"))\n",
    "                date = input(\"Date of the order: \")\n",
    "                to_order(name, price, phone_number, qty, guest, date, \"order\")\n",
    "            elif user_choice == 2:\n",
    "                get_insight(\"total_order\", \"total_price\")\n",
    "            elif user_choice == 3:\n",
    "                print(\"Exitting.....\")\n",
    "                break\n",
    "            else:\n",
    "                print(\"Invalid choice.\")\n",
    "        except ValueError:\n",
    "            print(\"Enter The Value Integer\")\n",
    "\n",
    "\n",
    "main()"
   ]
  }
 ],
 "metadata": {
  "kernelspec": {
   "display_name": "Python 3",
   "language": "python",
   "name": "python3"
  },
  "language_info": {
   "codemirror_mode": {
    "name": "ipython",
    "version": 3
   },
   "file_extension": ".py",
   "mimetype": "text/x-python",
   "name": "python",
   "nbconvert_exporter": "python",
   "pygments_lexer": "ipython3",
   "version": "3.11.4"
  },
  "orig_nbformat": 4
 },
 "nbformat": 4,
 "nbformat_minor": 2
}
