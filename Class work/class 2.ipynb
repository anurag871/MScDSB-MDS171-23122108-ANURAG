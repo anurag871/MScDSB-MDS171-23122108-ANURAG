{
 "cells": [
  {
   "cell_type": "code",
   "execution_count": null,
   "metadata": {},
   "outputs": [],
   "source": [
    "# Create a sportMart class, where you will have \n",
    "# -> inventory / shelf of items\n",
    "# -> Orders of customers\n",
    "\n",
    "# Create csv file which will store your inventory details and order details\n",
    "\n",
    "# with the help of file handling technqiues in python, read the file and create an object for trinity store and populate the inventory items and orders into the trinity store.\n",
    "\n",
    "# to make sure that you have added all the items in your file, use a display method to show your inventory and order history.\n",
    "\n",
    "\n",
    "# -------------------\n",
    "\n",
    "\n",
    "\n"
   ]
  }
 ],
 "metadata": {
  "language_info": {
   "name": "python"
  }
 },
 "nbformat": 4,
 "nbformat_minor": 2
}
