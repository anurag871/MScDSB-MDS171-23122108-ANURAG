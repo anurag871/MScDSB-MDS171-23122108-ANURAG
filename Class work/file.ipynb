{
 "cells": [
  {
   "cell_type": "code",
   "execution_count": 3,
   "metadata": {},
   "outputs": [],
   "source": [
    "#Write a pyhton program with following specification :\n",
    "\n",
    "#There will be a function name create_dataset, which will take a dictionary, filename & no. of rows as arguments -\n",
    "#The dictionary is having the follwoing structure :\n",
    "# {\n",
    "#  \"col name\" : [domain of values]\n",
    "#   \"     \"\"\n",
    "# }\n",
    "# Your function will select random values from each of the domain and create a row for you -\n",
    "# that have to be created is the parameter -\n",
    "# Save the files with required number of rows -\n",
    "# Load the dataset using pandas and display basic details."
   ]
  },
  {
   "cell_type": "code",
   "execution_count": 21,
   "metadata": {},
   "outputs": [],
   "source": [
    "import pandas as pd\n",
    "import random"
   ]
  },
  {
   "cell_type": "code",
   "execution_count": null,
   "metadata": {},
   "outputs": [],
   "source": []
  }
 ],
 "metadata": {
  "kernelspec": {
   "display_name": "Python 3",
   "language": "python",
   "name": "python3"
  },
  "language_info": {
   "codemirror_mode": {
    "name": "ipython",
    "version": 3
   },
   "file_extension": ".py",
   "mimetype": "text/x-python",
   "name": "python",
   "nbconvert_exporter": "python",
   "pygments_lexer": "ipython3",
   "version": "3.11.4"
  }
 },
 "nbformat": 4,
 "nbformat_minor": 2
}
