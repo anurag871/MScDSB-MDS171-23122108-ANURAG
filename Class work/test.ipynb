{
 "cells": [
  {
   "cell_type": "code",
   "execution_count": 1,
   "metadata": {},
   "outputs": [
    {
     "name": "stdout",
     "output_type": "stream",
     "text": [
      "Amount to pay 2000\n",
      "devided by 3\n"
     ]
    }
   ],
   "source": [
    "amt =0\n",
    "num = 350\n",
    "\n",
    "if num<100:\n",
    "    amt=0\n",
    "elif num>100 and num<=200:\n",
    "    amt=(num-100)*5\n",
    "elif num>=200:\n",
    "    amt=500+(num-200)*10\n",
    "print(\"Amount to pay\",amt)\n",
    "\n",
    "\n",
    "\n",
    "num = int(input(\"enter a number\"))\n",
    "\n",
    "\n",
    "if num%3==0:\n",
    "    print(\"devided by 3\")\n",
    "else:\n",
    "    print(\"not devisible by 3\")"
   ]
  },
  {
   "cell_type": "code",
   "execution_count": 3,
   "metadata": {},
   "outputs": [
    {
     "name": "stdout",
     "output_type": "stream",
     "text": [
      "A\n"
     ]
    }
   ],
   "source": [
    "marks = int(input(\"Enter your marks: \"))\n",
    "\n",
    "if marks>90:\n",
    "    print (\"A\")\n",
    "elif marks<=90 and marks>=80:\n",
    "    print (\"B\")\n",
    "elif marks<=80 and marks>=60:\n",
    "    print (\"C\")\n",
    "elif marks>60:\n",
    "    print (\"D\")"
   ]
  },
  {
   "cell_type": "code",
   "execution_count": 14,
   "metadata": {},
   "outputs": [
    {
     "name": "stdout",
     "output_type": "stream",
     "text": [
      "10%\n"
     ]
    }
   ],
   "source": [
    "cost = int(input(\"enter the cost\"))\n",
    "\n",
    "\n",
    "if cost>100000:\n",
    "    print (\"15%\")\n",
    "elif cost<=100000 and cost>50000:\n",
    "    print (\"10%\")\n",
    "elif cost<=50000:\n",
    "    print (\"5%\")565\n",
    "    "
   ]
  },
  {
   "cell_type": "code",
   "execution_count": 21,
   "metadata": {},
   "outputs": [
    {
     "name": "stdout",
     "output_type": "stream",
     "text": [
      "not a laep year\n"
     ]
    }
   ],
   "source": [
    "year = int(input(\"enter days\"))\n",
    "\n",
    "\n",
    "if year%4==0:\n",
    "    print (\"leap year\")\n",
    "else:\n",
    "    print (\"not a laep year\")"
   ]
  },
  {
   "cell_type": "code",
   "execution_count": 23,
   "metadata": {},
   "outputs": [
    {
     "name": "stdout",
     "output_type": "stream",
     "text": [
      "thursday\n"
     ]
    }
   ],
   "source": [
    "num = int(input(\"enter number\"))\n",
    "\n",
    "if num==1:\n",
    "    print(\"sunday\")\n",
    "elif num==2:\n",
    "    print(\"monday\")\n",
    "elif num==3:\n",
    "    print(\"tuesday\")\n",
    "elif num==4:\n",
    "    print(\"wednesday\")\n",
    "elif num==5:\n",
    "    print (\"thursday\")\n",
    "elif num==6:\n",
    "    print (\"friday\")\n",
    "elif num==7:\n",
    "    print (\"saturday\")\n"
   ]
  },
  {
   "cell_type": "code",
   "execution_count": 6,
   "metadata": {},
   "outputs": [
    {
     "name": "stdout",
     "output_type": "stream",
     "text": [
      "your Number is above than 3 digit\n"
     ]
    }
   ],
   "source": [
    "user = input(\"Enter the number: \")\n",
    "length = len(user)\n",
    "\n",
    "if length == 3:\n",
    "    print(\"your Number is above than 3 digit\")\n",
    "else:\n",
    "    print(\"Not\") \n",
    "    \n",
    "\n",
    "\n",
    "   "
   ]
  },
  {
   "cell_type": "code",
   "execution_count": 20,
   "metadata": {},
   "outputs": [
    {
     "data": {
      "text/plain": [
       "['apple', 'banana', 'pine', 5]"
      ]
     },
     "execution_count": 20,
     "metadata": {},
     "output_type": "execute_result"
    }
   ],
   "source": [
    "#series\n",
    "series = [\"apple\",\"banana\",\"pine\",5,6]\n",
    "\n",
    "series\n",
    "len(series)\n",
    "\n",
    "series[2]\n",
    "\n",
    "\n",
    "\n",
    "series[:-1]"
   ]
  },
  {
   "cell_type": "markdown",
   "metadata": {},
   "source": []
  },
  {
   "cell_type": "markdown",
   "metadata": {},
   "source": [
    "#loop\n"
   ]
  },
  {
   "cell_type": "code",
   "execution_count": null,
   "metadata": {},
   "outputs": [],
   "source": []
  },
  {
   "cell_type": "code",
   "execution_count": null,
   "metadata": {},
   "outputs": [],
   "source": []
  },
  {
   "cell_type": "code",
   "execution_count": 3,
   "metadata": {},
   "outputs": [
    {
     "name": "stdout",
     "output_type": "stream",
     "text": [
      "A\n",
      "m\n",
      "a\n",
      "n\n"
     ]
    }
   ],
   "source": [
    "for i in \"Aman\":\n",
    "    print(i) "
   ]
  },
  {
   "cell_type": "code",
   "execution_count": 6,
   "metadata": {},
   "outputs": [
    {
     "name": "stdout",
     "output_type": "stream",
     "text": [
      "A\n",
      "m\n",
      "a\n",
      "n\n",
      "A\n",
      "n\n",
      "u\n",
      "r\n",
      "a\n",
      "g\n",
      "S\n",
      "u\n",
      "r\n",
      "y\n",
      "a\n",
      "n\n",
      "s\n",
      "h\n"
     ]
    }
   ],
   "source": [
    "name = [\"Aman\",\"Anurag\",\"Suryansh\"]\n",
    "\n",
    "for i in name:\n",
    "    for y in i:\n",
    "        print(y)\n"
   ]
  },
  {
   "cell_type": "code",
   "execution_count": 11,
   "metadata": {},
   "outputs": [
    {
     "name": "stdout",
     "output_type": "stream",
     "text": [
      "2\n",
      "4\n",
      "6\n",
      "8\n",
      "10\n"
     ]
    }
   ],
   "source": [
    "for i in range(2,10+1,2):\n",
    "    print(i)\n",
    "\n"
   ]
  },
  {
   "cell_type": "code",
   "execution_count": 4,
   "metadata": {},
   "outputs": [
    {
     "name": "stdout",
     "output_type": "stream",
     "text": [
      "3\n"
     ]
    }
   ],
   "source": [
    "num = 0\n",
    "name = [\"Aman\",\"Anurag\",\"Suryansh\"]\n",
    "for i in name:\n",
    "    num = num + 1\n",
    "\n",
    "print(num)"
   ]
  },
  {
   "cell_type": "code",
   "execution_count": 3,
   "metadata": {},
   "outputs": [
    {
     "name": "stdout",
     "output_type": "stream",
     "text": [
      "10\n",
      "20\n",
      "30\n",
      "40\n"
     ]
    }
   ],
   "source": [
    "list_num = [10,20,30,40]\n",
    "for item in list_num:\n",
    "    print(item)"
   ]
  },
  {
   "cell_type": "code",
   "execution_count": 1,
   "metadata": {},
   "outputs": [
    {
     "name": "stdout",
     "output_type": "stream",
     "text": [
      "5.0\n"
     ]
    }
   ],
   "source": [
    "n1 = 4\n",
    "n2 = 6\n",
    "sum = bool(n1)+float(bool(n2))+3\n",
    "print(sum)"
   ]
  },
  {
   "cell_type": "code",
   "execution_count": 13,
   "metadata": {},
   "outputs": [
    {
     "name": "stdout",
     "output_type": "stream",
     "text": [
      "11.0\n"
     ]
    }
   ],
   "source": [
    "x = 55\n",
    "y = 5\n",
    "num = x/y\n",
    "print(num)\n"
   ]
  },
  {
   "cell_type": "code",
   "execution_count": null,
   "metadata": {},
   "outputs": [],
   "source": []
  },
  {
   "cell_type": "code",
   "execution_count": null,
   "metadata": {},
   "outputs": [],
   "source": []
  },
  {
   "cell_type": "code",
   "execution_count": null,
   "metadata": {},
   "outputs": [],
   "source": []
  },
  {
   "cell_type": "code",
   "execution_count": null,
   "metadata": {},
   "outputs": [],
   "source": []
  }
 ],
 "metadata": {
  "kernelspec": {
   "display_name": "Python 3",
   "language": "python",
   "name": "python3"
  },
  "language_info": {
   "codemirror_mode": {
    "name": "ipython",
    "version": 3
   },
   "file_extension": ".py",
   "mimetype": "text/x-python",
   "name": "python",
   "nbconvert_exporter": "python",
   "pygments_lexer": "ipython3",
   "version": "3.11.4"
  },
  "orig_nbformat": 4
 },
 "nbformat": 4,
 "nbformat_minor": 2
}
