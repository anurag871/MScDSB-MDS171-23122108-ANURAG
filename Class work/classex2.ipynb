{
 "cells": [
  {
   "cell_type": "code",
   "execution_count": 10,
   "metadata": {},
   "outputs": [],
   "source": [
    "#restaurant\n",
    "#menu items\n",
    "#collecting orders\n",
    "#billing\n",
    "#print bill\n",
    "#update order \n",
    "#search for an order\n",
    "import random\n",
    "class restaurant:\n",
    "    def __init__(self):\n",
    "        self.menu={\n",
    "            \"rice\":30,\n",
    "            \"idli\":10\n",
    "        }\n",
    "        #orderid:{set of order details}\n",
    "        self.orders={}\n",
    "    \n",
    "    def printmenu(self):\n",
    "        print(\"*\"*30)\n",
    "        print(\"The current options in the menu are\")\n",
    "        print(\"*\"*30)\n",
    "        print(self.menu)\n",
    "        print(\"*\"*30)\n",
    "\n",
    "    def generateorderid(self):\n",
    "        orderid=\"\"\n",
    "        for i in range (1,6,1):\n",
    "            orderid+=str(random.randint(1,10))\n",
    "        return orderid\n",
    "    \n",
    "    def collect_order(self):\n",
    "        #print menu\n",
    "        #ask user to enter the value\n",
    "        #collect the value and update the order\n",
    "        #print the order\n",
    "        self.printmenu()#print menu\n",
    "        phone=input(\"enter the customer phone number\")\n",
    "        order={}\n",
    "        while True:\n",
    "            item=input(\"enter the item name you want to order:\")\n",
    "            qty=int(input(\"enter the quantity of the item:\"))\n",
    "            order[item]=qty\n",
    "            choice=input(\"Do you want to complete the order:'Y'\").upper()\n",
    "            if choice=='Y':\n",
    "                break\n",
    "            orderid=self.generateorderid()\n",
    "            self.orders[orderid]={\n",
    "                \"Phone\":phone,\n",
    "                \"Order\":order\n",
    "            }\n",
    "\n",
    "        print(self.orders)"
   ]
  },
  {
   "cell_type": "code",
   "execution_count": 7,
   "metadata": {},
   "outputs": [],
   "source": [
    "abc = restaurant()"
   ]
  },
  {
   "cell_type": "code",
   "execution_count": 8,
   "metadata": {},
   "outputs": [
    {
     "name": "stdout",
     "output_type": "stream",
     "text": [
      "******************************\n",
      "The current options in the menu are\n",
      "******************************\n",
      "{'rice': 30, 'idli': 10}\n",
      "******************************\n",
      "{'311062': {'Phone': '889', 'Order': {'rice': 5, 'dal': 5}}}\n"
     ]
    }
   ],
   "source": [
    "abc.collect_order()"
   ]
  },
  {
   "cell_type": "code",
   "execution_count": 9,
   "metadata": {},
   "outputs": [
    {
     "name": "stdout",
     "output_type": "stream",
     "text": [
      "******************************\n",
      "The current options in the menu are\n",
      "******************************\n",
      "{'rice': 30, 'idli': 10}\n",
      "******************************\n",
      "{'58339': {'Phone': '3456789', 'Order': {'rice': 5, '': 10}}, '77572': {'Phone': '3456789', 'Order': {'rice': 5, '': 10}}}\n"
     ]
    }
   ],
   "source": [
    "anuragscafe=restaurant()\n",
    "anuragscafe.collect_order()\n",
    "\n"
   ]
  },
  {
   "cell_type": "code",
   "execution_count": null,
   "metadata": {},
   "outputs": [],
   "source": [
    "\n"
   ]
  },
  {
   "cell_type": "code",
   "execution_count": 12,
   "metadata": {},
   "outputs": [
    {
     "name": "stdout",
     "output_type": "stream",
     "text": [
      "******************************\n",
      "The current options in the menu are\n",
      "******************************\n",
      "{'rice': 30, 'idli': 10}\n",
      "******************************\n",
      "{}\n"
     ]
    }
   ],
   "source": [
    "suraj=restaurant()\n",
    "suraj.collect_order()\n"
   ]
  },
  {
   "cell_type": "code",
   "execution_count": null,
   "metadata": {},
   "outputs": [],
   "source": [
    "suraj=restaurant()\n"
   ]
  },
  {
   "cell_type": "code",
   "execution_count": 13,
   "metadata": {},
   "outputs": [
    {
     "name": "stdout",
     "output_type": "stream",
     "text": [
      "******************************\n",
      "The current options in the menu are\n",
      "******************************\n",
      "{'rice': 30, 'idli': 10}\n",
      "******************************\n",
      "{}\n"
     ]
    }
   ],
   "source": [
    "suraj.collect_order()\n"
   ]
  },
  {
   "cell_type": "code",
   "execution_count": null,
   "metadata": {},
   "outputs": [],
   "source": []
  }
 ],
 "metadata": {
  "kernelspec": {
   "display_name": "Python 3",
   "language": "python",
   "name": "python3"
  },
  "language_info": {
   "codemirror_mode": {
    "name": "ipython",
    "version": 3
   },
   "file_extension": ".py",
   "mimetype": "text/x-python",
   "name": "python",
   "nbconvert_exporter": "python",
   "pygments_lexer": "ipython3",
   "version": "3.11.4"
  },
  "orig_nbformat": 4
 },
 "nbformat": 4,
 "nbformat_minor": 2
}
