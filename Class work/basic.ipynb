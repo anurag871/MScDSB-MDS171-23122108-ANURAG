{
 "cells": [
  {
   "cell_type": "code",
   "execution_count": null,
   "metadata": {},
   "outputs": [],
   "source": [
    "file = open(\"sample.txt\",\"w+\")"
   ]
  },
  {
   "cell_type": "code",
   "execution_count": 22,
   "metadata": {},
   "outputs": [
    {
     "data": {
      "text/plain": [
       "6"
      ]
     },
     "execution_count": 22,
     "metadata": {},
     "output_type": "execute_result"
    }
   ],
   "source": [
    "file.write(\"Hello\\n\")"
   ]
  },
  {
   "cell_type": "code",
   "execution_count": 23,
   "metadata": {},
   "outputs": [],
   "source": [
    "file.close()"
   ]
  },
  {
   "cell_type": "code",
   "execution_count": 24,
   "metadata": {},
   "outputs": [],
   "source": [
    "file = open(\"sample.txt\",\"r+\")"
   ]
  },
  {
   "cell_type": "code",
   "execution_count": 25,
   "metadata": {},
   "outputs": [
    {
     "data": {
      "text/plain": [
       "['Hello\\n']"
      ]
     },
     "execution_count": 25,
     "metadata": {},
     "output_type": "execute_result"
    }
   ],
   "source": [
    "file.readlines()"
   ]
  },
  {
   "cell_type": "markdown",
   "metadata": {},
   "source": [
    "in python that accept your detail and save in to file with yoyr info"
   ]
  },
  {
   "cell_type": "code",
   "execution_count": 10,
   "metadata": {},
   "outputs": [],
   "source": [
    "\n",
    "    \n",
    "def mydetails(name,phone,email):\n",
    "    file = open(\"sample.txt\",\"w+\")\n",
    "    file.write(\"name\\t:\\t\"+name+\"\\n\")\n",
    "    file.write(\"phone\\t:\\t\"+phone+\"\\n\")\n",
    "    file.write(\"email\\t:\\t\"+email+\"\\n\")\n",
    "    file.close()\n",
    "\n",
    "\n",
    "\n",
    "\n",
    "name = \"anurag\"\n",
    "phone = \"7055070679\"\n",
    "email = \"anuyadav7800@gmail.com\"\n",
    "mydetails(name,phone,email)\n",
    "\n",
    "    "
   ]
  },
  {
   "cell_type": "markdown",
   "metadata": {},
   "source": [
    "write a python program that will take two operator and perform the calculation and gives the result.\n",
    "also save the claculation that your programperform in a file"
   ]
  },
  {
   "cell_type": "code",
   "execution_count": null,
   "metadata": {},
   "outputs": [
    {
     "name": "stdout",
     "output_type": "stream",
     "text": [
      "113\n"
     ]
    }
   ],
   "source": [
    "user_operands_1 = int(input(\"Enter 1st operand: \"))\n",
    "user_operands_2 = int(input(\"Enter 2nd operand: \"))\n",
    "user_operator = input('Enter operator: ')\n",
    "\n",
    "if user_operator == '+' :\n",
    "     calculation = user_operands_1 + user_operands_2\n",
    "elif user_operator == '-':\n",
    "     calculation = user_operands_1 - user_operands_2\n",
    "elif user_operator == '*':\n",
    "     calculation = user_operands_1 * user_operands_2\n",
    "elif user_operator == '/':\n",
    "     calculation = user_operands_1 / user_operands_2\n",
    "else :\n",
    "     print('Error')\n",
    "print(calculation)"
   ]
  },
  {
   "cell_type": "code",
   "execution_count": null,
   "metadata": {},
   "outputs": [],
   "source": []
  },
  {
   "cell_type": "markdown",
   "metadata": {},
   "source": [
    "#while loop"
   ]
  },
  {
   "cell_type": "code",
   "execution_count": 4,
   "metadata": {},
   "outputs": [
    {
     "name": "stdout",
     "output_type": "stream",
     "text": [
      "25\n",
      "36\n",
      "49\n",
      "64\n",
      "81\n"
     ]
    }
   ],
   "source": [
    "#while\n",
    "a=5\n",
    "while a<10:\n",
    "    res = a*a\n",
    "    print(res)\n",
    "    a=a+1"
   ]
  },
  {
   "cell_type": "code",
   "execution_count": 3,
   "metadata": {},
   "outputs": [
    {
     "name": "stdout",
     "output_type": "stream",
     "text": [
      "1\n",
      "2\n",
      "3\n",
      "4\n",
      "5\n",
      "6\n"
     ]
    }
   ],
   "source": [
    "#break,continue\n",
    "for i in range(1,10):\n",
    "    if i==7:\n",
    "        break\n",
    "    print(i)"
   ]
  },
  {
   "cell_type": "code",
   "execution_count": 2,
   "metadata": {},
   "outputs": [
    {
     "name": "stdout",
     "output_type": "stream",
     "text": [
      "1\n",
      "2\n",
      "3\n",
      "5\n",
      "6\n",
      "7\n",
      "8\n",
      "9\n"
     ]
    }
   ],
   "source": [
    "#continue\n",
    "for i in range(1,10):\n",
    "    if i==4:\n",
    "        continue\n",
    "    print(i)"
   ]
  },
  {
   "cell_type": "code",
   "execution_count": 5,
   "metadata": {},
   "outputs": [
    {
     "name": "stdout",
     "output_type": "stream",
     "text": [
      "{'abc', 'MNO', 'CDF', 'XYZ', 'ABC'}\n",
      "['abc', 'MNO', 'CDF', 'XYZ', 'ABC']\n"
     ]
    }
   ],
   "source": [
    "list_ex = ['abc','ABC','CDF','MNO','XYZ']\n",
    "set_ex = set(list_ex)\n",
    "print(set_ex)\n",
    "back = list(set_ex)\n",
    "print(back)"
   ]
  },
  {
   "cell_type": "code",
   "execution_count": 2,
   "metadata": {},
   "outputs": [],
   "source": [
    "#create list of 10 names that are random and repeating from user identity the unique items and their count\n",
    "\n",
    "names = []\n",
    "for i in range (0,10,1):\n",
    "    name =input(\"enter the name\")\n",
    "    name = name.strip()\n",
    "    name = name.upper()\n",
    "    names.append(name)\n",
    "#print(names)\n",
    "unique_names = set(names)\n",
    "print(unique_names)\n",
    "\n",
    "for search in unique_names:\n",
    "    count = 0\n",
    "    for items in names:\n",
    "        if search ==item:\n",
    "            count = count+1\n",
    "    print(search,count)        "
   ]
  },
  {
   "cell_type": "code",
   "execution_count": null,
   "metadata": {},
   "outputs": [],
   "source": []
  },
  {
   "cell_type": "code",
   "execution_count": 4,
   "metadata": {},
   "outputs": [],
   "source": [
    "my_dict = {\n",
    "    \"NAME\" : \"ANURAG YADAV\",\n",
    "    \"PHONE\" : \"7055070679\",\n",
    "    \"EMAIL\" : \"anuyadav7800@gmail.com\",\n",
    "}"
   ]
  },
  {
   "cell_type": "code",
   "execution_count": 5,
   "metadata": {},
   "outputs": [
    {
     "name": "stdout",
     "output_type": "stream",
     "text": [
      "ANURAG YADAV\n"
     ]
    }
   ],
   "source": [
    "print(my_dict[\"NAME\"])"
   ]
  },
  {
   "cell_type": "code",
   "execution_count": 7,
   "metadata": {},
   "outputs": [
    {
     "name": "stdout",
     "output_type": "stream",
     "text": [
      "{'NAME': 'ANURAG YADAV', 'PHONE': '7055070679', 'EMAIL': 'anuyadav7800@gmail.com', 'address': 'christ (deemed to be university)'}\n"
     ]
    }
   ],
   "source": [
    "my_dict[\"address\"] = \"christ (deemed to be university)\"\n",
    "print(my_dict)"
   ]
  },
  {
   "cell_type": "code",
   "execution_count": 9,
   "metadata": {},
   "outputs": [
    {
     "ename": "KeyError",
     "evalue": "'gvjam'",
     "output_type": "error",
     "traceback": [
      "\u001b[1;31m---------------------------------------------------------------------------\u001b[0m",
      "\u001b[1;31mKeyError\u001b[0m                                  Traceback (most recent call last)",
      "\u001b[1;32mc:\\Users\\Anurag Yadav\\Desktop\\python\\jupyter\\basic.ipynb Cell 21\u001b[0m line \u001b[0;36m1\n\u001b[1;32m----> <a href='vscode-notebook-cell:/c%3A/Users/Anurag%20Yadav/Desktop/python/jupyter/basic.ipynb#X26sZmlsZQ%3D%3D?line=0'>1</a>\u001b[0m \u001b[39mprint\u001b[39m(my_dict[\u001b[39m\"\u001b[39;49m\u001b[39mgvjam\u001b[39;49m\u001b[39m\"\u001b[39;49m])\n",
      "\u001b[1;31mKeyError\u001b[0m: 'gvjam'"
     ]
    }
   ],
   "source": [
    "print(my_dict[\"gvjam\"])"
   ]
  },
  {
   "cell_type": "code",
   "execution_count": 11,
   "metadata": {},
   "outputs": [
    {
     "data": {
      "text/plain": [
       "dict_keys(['NAME', 'PHONE', 'EMAIL', 'address'])"
      ]
     },
     "execution_count": 11,
     "metadata": {},
     "output_type": "execute_result"
    }
   ],
   "source": [
    "my_dict.keys()\n"
   ]
  },
  {
   "cell_type": "code",
   "execution_count": 13,
   "metadata": {},
   "outputs": [
    {
     "data": {
      "text/plain": [
       "dict_values(['ANURAG YADAV', '7055070679', 'anuyadav7800@gmail.com', 'christ (deemed to be university)'])"
      ]
     },
     "execution_count": 13,
     "metadata": {},
     "output_type": "execute_result"
    }
   ],
   "source": [
    "my_dict.values()"
   ]
  },
  {
   "cell_type": "code",
   "execution_count": 16,
   "metadata": {},
   "outputs": [
    {
     "name": "stdout",
     "output_type": "stream",
     "text": [
      "dict_keys(['NAME', 'PHONE', 'EMAIL', 'address'])\n",
      "NAME\n",
      "PHONE\n",
      "EMAIL\n",
      "address\n"
     ]
    }
   ],
   "source": [
    "print(my_dict.keys())\n",
    "for key in my_dict.keys():\n",
    "    print(key)\n"
   ]
  },
  {
   "cell_type": "code",
   "execution_count": 26,
   "metadata": {},
   "outputs": [
    {
     "name": "stdout",
     "output_type": "stream",
     "text": [
      "anurag\n",
      "vedant\n",
      "nihal\n",
      "mubashir\n",
      "albert\n"
     ]
    }
   ],
   "source": [
    "students = {\n",
    "    \"names\": [\"anurag\",\"vedant\",\"nihal\",\"mubashir\",\"albert\"],\n",
    "    \"rollnumbers\": [1,2,3,4,5]\n",
    "}\n",
    "#for name in students[\"names\"]:\n",
    "#    print(name)\n",
    "for name in students[\"names\"]:\n",
    "    print(name)"
   ]
  },
  {
   "cell_type": "markdown",
   "metadata": {},
   "source": []
  },
  {
   "cell_type": "code",
   "execution_count": 31,
   "metadata": {},
   "outputs": [],
   "source": [
    "mscdsb = [\n",
    "{\n",
    "    \"roll _no\": 23122001,\n",
    "    \"name\": \"devmala\",\n",
    "    \"email\": \"devmala@gmail.com\"\n",
    "},\n",
    "{\n",
    "    \"roll _no\": 23122002,\n",
    "    \"name\": \"sonalika\",\n",
    "    \"email\": \"sonalika@gmail.com\"\n",
    "},\n",
    "{\n",
    "    \"roll _no\": 23122001,\n",
    "    \"name\": \"vedant\",\n",
    "    \"email\": \"vedant@gmail.com\"\n",
    "}\n",
    "]"
   ]
  },
  {
   "cell_type": "code",
   "execution_count": 35,
   "metadata": {},
   "outputs": [
    {
     "name": "stdout",
     "output_type": "stream",
     "text": [
      "{'roll _no': 23122001, 'name': 'devmala', 'email': 'devmala@gmail.com'}\n",
      "23122001\tdevmala\tdevmala@gmail.com\t\n",
      "{'roll _no': 23122002, 'name': 'sonalika', 'email': 'sonalika@gmail.com'}\n",
      "23122002\tsonalika\tsonalika@gmail.com\t\n",
      "{'roll _no': 23122001, 'name': 'vedant', 'email': 'vedant@gmail.com'}\n",
      "23122001\tvedant\tvedant@gmail.com\t\n"
     ]
    }
   ],
   "source": [
    "for students in mscdsb:\n",
    "    print(students)\n",
    "    for key in students.keys():\n",
    "        print(students[key],end=\"\\t\")\n",
    "    print()"
   ]
  },
  {
   "cell_type": "code",
   "execution_count": 1,
   "metadata": {},
   "outputs": [
    {
     "name": "stdout",
     "output_type": "stream",
     "text": [
      "Menu Options\n",
      "1. Enter Student Info\n",
      "2. List Students\n",
      "3. Exit\n",
      "Menu Options\n",
      "1. Enter Student Info\n",
      "2. List Students\n",
      "3. Exit\n"
     ]
    }
   ],
   "source": [
    "# Create a menu driven program that collects students details\n",
    "# > Name, Register Number, Email & Phone\n",
    "# [Use dictionary to store student details]\n",
    "\n",
    "# Menu Options\n",
    "# 1. Create Students\n",
    "# 2. Search for Students\n",
    "# 3. Print Students\n",
    "\n",
    "studentDict = {}\n",
    "\n",
    "def createStudent(name,regno,email,phone):\n",
    "    student = {\n",
    "        \"Name\": name,\n",
    "        \"Email\": email,\n",
    "        \"Phone\": phone\n",
    "    }\n",
    "\n",
    "    studentDict[regno] = student\n",
    "\n",
    "def colletStudentInfo():\n",
    "    name = input(\"Enter Student Name: \")\n",
    "    regno = input(\"Enter Student regno: \")\n",
    "    email = input(\"Enter Student Email: \")\n",
    "    phone = input(\"Enter Student Phone: \")\n",
    "    return name, regno, email, phone\n",
    "\n",
    "def printStudents():\n",
    "    print(\"Regno\\tName\\tEmail\\tPhone\")\n",
    "    for regno in studentDict.keys():\n",
    "        print(regno,end=\"\\t\")\n",
    "        for key in studentDict[regno]:\n",
    "            print(studentDict[regno][key],end='\\t')\n",
    "        print()\n",
    "\n",
    "while True:\n",
    "    print(\"Menu Options\")\n",
    "    print(\"1. Enter Student Info\")\n",
    "    print(\"2. List Students\")\n",
    "    print(\"3. Exit\")\n",
    "\n",
    "    choice = input(\"Enter the choice\").strip()\n",
    "    if choice == \"1\":\n",
    "        name, regno, email, phone = colletStudentInfo()\n",
    "        createStudent(name, regno, email, phone)\n",
    "    elif choice == \"2\":\n",
    "        printStudents()\n",
    "    elif choice == \"3\":\n",
    "        exit()\n",
    "    else:\n",
    "        print(\"Invalid Choice\")\n",
    "\n",
    "        #https://codeshare.io/101\n",
    "    "
   ]
  }
 ],
 "metadata": {
  "kernelspec": {
   "display_name": "Python 3",
   "language": "python",
   "name": "python3"
  },
  "language_info": {
   "codemirror_mode": {
    "name": "ipython",
    "version": 3
   },
   "file_extension": ".py",
   "mimetype": "text/x-python",
   "name": "python",
   "nbconvert_exporter": "python",
   "pygments_lexer": "ipython3",
   "version": "3.11.4"
  },
  "orig_nbformat": 4
 },
 "nbformat": 4,
 "nbformat_minor": 2
}
