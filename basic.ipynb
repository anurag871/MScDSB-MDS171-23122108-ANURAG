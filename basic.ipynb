{
 "cells": [
  {
   "cell_type": "code",
   "execution_count": 1,
   "metadata": {},
   "outputs": [],
   "source": [
    "file = open(\"sample.txt\",\"w+\")"
   ]
  },
  {
   "cell_type": "code",
   "execution_count": 2,
   "metadata": {},
   "outputs": [
    {
     "data": {
      "text/plain": [
       "6"
      ]
     },
     "execution_count": 2,
     "metadata": {},
     "output_type": "execute_result"
    }
   ],
   "source": [
    "file.write(\"Hello\\n\")"
   ]
  },
  {
   "cell_type": "code",
   "execution_count": 3,
   "metadata": {},
   "outputs": [],
   "source": [
    "file.close()"
   ]
  },
  {
   "cell_type": "code",
   "execution_count": 4,
   "metadata": {},
   "outputs": [],
   "source": [
    "file = open(\"sample.txt\",\"r+\")"
   ]
  },
  {
   "cell_type": "code",
   "execution_count": 5,
   "metadata": {},
   "outputs": [
    {
     "data": {
      "text/plain": [
       "['Hello\\n']"
      ]
     },
     "execution_count": 5,
     "metadata": {},
     "output_type": "execute_result"
    }
   ],
   "source": [
    "file.readlines()"
   ]
  },
  {
   "cell_type": "markdown",
   "metadata": {},
   "source": [
    "in python that accept your detail and save in to file with yoyr info"
   ]
  },
  {
   "cell_type": "code",
   "execution_count": 6,
   "metadata": {},
   "outputs": [],
   "source": [
    "\n",
    "    \n",
    "def mydetails(name,phone,email):\n",
    "    file = open(\"sample.txt\",\"w+\")\n",
    "    file.write(\"name\\t:\\t\"+name+\"\\n\")\n",
    "    file.write(\"phone\\t:\\t\"+phone+\"\\n\")\n",
    "    file.write(\"email\\t:\\t\"+email+\"\\n\")\n",
    "    file.close()\n",
    "\n",
    "\n",
    "\n",
    "\n",
    "name = \"anurag\"\n",
    "phone = \"7055070679\"\n",
    "email = \"anuyadav7800@gmail.com\"\n",
    "mydetails(name,phone,email)\n",
    "\n",
    "    "
   ]
  },
  {
   "cell_type": "markdown",
   "metadata": {},
   "source": [
    "write a python program that will take two operator and perform the calculation and gives the result.\n",
    "also save the claculation that your programperform in a file"
   ]
  },
  {
   "cell_type": "code",
   "execution_count": 7,
   "metadata": {},
   "outputs": [
    {
     "ename": "ValueError",
     "evalue": "invalid literal for int() with base 10: ''",
     "output_type": "error",
     "traceback": [
      "\u001b[1;31m---------------------------------------------------------------------------\u001b[0m",
      "\u001b[1;31mValueError\u001b[0m                                Traceback (most recent call last)",
      "\u001b[1;32mc:\\Users\\Anurag Yadav\\Desktop\\python\\github\\MScDSB-MDS171-23122108-ANURAG\\basic.ipynb Cell 9\u001b[0m line \u001b[0;36m1\n\u001b[1;32m----> <a href='vscode-notebook-cell:/c%3A/Users/Anurag%20Yadav/Desktop/python/github/MScDSB-MDS171-23122108-ANURAG/basic.ipynb#X11sZmlsZQ%3D%3D?line=0'>1</a>\u001b[0m user_operands_1 \u001b[39m=\u001b[39m \u001b[39mint\u001b[39;49m(\u001b[39minput\u001b[39;49m(\u001b[39m\"\u001b[39;49m\u001b[39mEnter 1st operand: \u001b[39;49m\u001b[39m\"\u001b[39;49m))\n\u001b[0;32m      <a href='vscode-notebook-cell:/c%3A/Users/Anurag%20Yadav/Desktop/python/github/MScDSB-MDS171-23122108-ANURAG/basic.ipynb#X11sZmlsZQ%3D%3D?line=1'>2</a>\u001b[0m user_operands_2 \u001b[39m=\u001b[39m \u001b[39mint\u001b[39m(\u001b[39minput\u001b[39m(\u001b[39m\"\u001b[39m\u001b[39mEnter 2nd operand: \u001b[39m\u001b[39m\"\u001b[39m))\n\u001b[0;32m      <a href='vscode-notebook-cell:/c%3A/Users/Anurag%20Yadav/Desktop/python/github/MScDSB-MDS171-23122108-ANURAG/basic.ipynb#X11sZmlsZQ%3D%3D?line=2'>3</a>\u001b[0m user_operator \u001b[39m=\u001b[39m \u001b[39minput\u001b[39m(\u001b[39m'\u001b[39m\u001b[39mEnter operator: \u001b[39m\u001b[39m'\u001b[39m)\n",
      "\u001b[1;31mValueError\u001b[0m: invalid literal for int() with base 10: ''"
     ]
    }
   ],
   "source": [
    "user_operands_1 = int(input(\"Enter 1st operand: \"))\n",
    "user_operands_2 = int(input(\"Enter 2nd operand: \"))\n",
    "user_operator = input('Enter operator: ')\n",
    "\n",
    "if user_operator == '+' :\n",
    "     calculation = user_operands_1 + user_operands_2\n",
    "elif user_operator == '-':\n",
    "     calculation = user_operands_1 - user_operands_2\n",
    "elif user_operator == '*':\n",
    "     calculation = user_operands_1 * user_operands_2\n",
    "elif user_operator == '/':\n",
    "     calculation = user_operands_1 / user_operands_2\n",
    "else :\n",
    "     print('Error')\n",
    "print(calculation)"
   ]
  },
  {
   "cell_type": "code",
   "execution_count": null,
   "metadata": {},
   "outputs": [],
   "source": []
  },
  {
   "cell_type": "markdown",
   "metadata": {},
   "source": [
    "#while loop"
   ]
  },
  {
   "cell_type": "code",
   "execution_count": null,
   "metadata": {},
   "outputs": [],
   "source": [
    "#break,continue\n",
    "\n",
    "for i in range(1,10):\n",
    "    if i==7"
   ]
  },
  {
   "cell_type": "code",
   "execution_count": null,
   "metadata": {},
   "outputs": [],
   "source": []
  }
 ],
 "metadata": {
  "kernelspec": {
   "display_name": "Python 3",
   "language": "python",
   "name": "python3"
  },
  "language_info": {
   "codemirror_mode": {
    "name": "ipython",
    "version": 3
   },
   "file_extension": ".py",
   "mimetype": "text/x-python",
   "name": "python",
   "nbconvert_exporter": "python",
   "pygments_lexer": "ipython3",
   "version": "3.11.4"
  },
  "orig_nbformat": 4
 },
 "nbformat": 4,
 "nbformat_minor": 2
}
